{
 "cells": [
  {
   "cell_type": "code",
   "execution_count": null,
   "metadata": {},
   "outputs": [],
   "source": [
    "# Object Oriented Programming: - Divide the code, into managable components\n",
    "\n",
    "#  Class: - Blueprint or General idea of the program\n",
    "    # Class Attributes: General variables holding data about the class\n",
    "    # Methods: Functions that perform, actions on such attributes\n",
    "\n",
    "# Object: - Instances of Class, Multiple Unique Copies of Class "
   ]
  },
  {
   "cell_type": "code",
   "execution_count": null,
   "metadata": {},
   "outputs": [],
   "source": [
    "class Expense_Tracker:\n",
    "    #  Docstring: - Description of class\n",
    "    '''\n",
    "    This is a class to do Expense Tracking\n",
    "\n",
    "    ''' \n",
    "    #  Constructor of Class.........\n",
    "    #  Purpose is to assign value to attributes, from outside of the class\n",
    "    def __init__(self,date,description,amount) -> None:\n",
    "        #  Self, is like this keyword. Used to refer the internal attributes of the class.\n",
    "        #  Here instead of the word \"self\", we can have any other word, just need to define it in constrcutor\n",
    "        self.date=date\n",
    "        self.description=description\n",
    "        self.amount=amount"
   ]
  },
  {
   "cell_type": "code",
   "execution_count": null,
   "metadata": {},
   "outputs": [],
   "source": [
    "#  Creating an object, from class\n",
    "Home_Tracker=Expense_Tracker('4th June 2022','Snacks Expense', 1500)\n",
    "print(Home_Tracker.description)\n",
    "Office_Tracker_Debit =Expense_Tracker('2nd June','Flight Tickets', 10000)\n",
    "Office_Tracker_Credit =Expense_Tracker('25th June','Salary Credited', 50000)\n",
    "\n",
    "print(Office_Tracker_Debit.amount,Office_Tracker_Credit.amount)"
   ]
  },
  {
   "cell_type": "code",
   "execution_count": null,
   "metadata": {},
   "outputs": [],
   "source": [
    "class Expense_Tracker:\n",
    "    #  Docstring: - Description of class\n",
    "    '''\n",
    "    This is a class to do Expense Tracking\n",
    "\n",
    "    '''\n",
    "    #  Class Attribute.......................\n",
    "    #  Class attribute: They remain unique to the class, and not different for each object. Same value for each object(same memory)\n",
    "    expense_tracker_version=0.1\n",
    "    #  This/Self keyword is reference to current instance to the class. \n",
    "    def __init__(this,tracker_category,opening_balance,budget) -> None:\n",
    "        # Instance Atrributes..........\n",
    "        # Instance attribute: They remain unique to the object, and different for each object. Different value for each object(different memory)\n",
    "    \n",
    "        this.tracker_category=tracker_category\n",
    "        this.opening_balance=opening_balance\n",
    "        this.budget=budget\n",
    "        "
   ]
  },
  {
   "cell_type": "code",
   "execution_count": null,
   "metadata": {},
   "outputs": [],
   "source": [
    "#  Creating an object, from class\n",
    "Home_Tracker=Expense_Tracker('home',3000, 5000)\n",
    "print(Home_Tracker.tracker_category)\n",
    "Shopping_Tracker_Debit =Expense_Tracker('shopping', 1000,10000)\n",
    "print(Shopping_Tracker_Debit.tracker_category)\n"
   ]
  },
  {
   "cell_type": "code",
   "execution_count": null,
   "metadata": {},
   "outputs": [],
   "source": [
    "#  Some of the inbuilt functions for classes and objects...............\n",
    "#  Dict Returns the values of all attributes for that object, It doesn't show the class attributes.\n",
    "print(Home_Tracker.__dict__)\n",
    "\n",
    "\n",
    "# getattr: - Return The attribute value, if it exists. If not returns error\n",
    "print(getattr(Shopping_Tracker_Debit, 'opening_balance'))\n",
    "\n",
    "#  hasattr: - Returns true or false, to check if attributes, exists or not\n",
    "print(hasattr(Shopping_Tracker_Debit, 'opening_balance'))\n",
    "print(hasattr(Shopping_Tracker_Debit, 'amount'))\n",
    "\n",
    "#  delattr: - Helps to delete an attribute from an object, Returns nothing\n",
    "print(delattr(Shopping_Tracker_Debit, 'budget'))\n",
    "print(Shopping_Tracker_Debit.__dict__)\n",
    "\n",
    "\n",
    "\n",
    "#  Modifying Class Attributes.........\n",
    "print('Home Tracker Class Attribute: ',Home_Tracker.expense_tracker_version)\n",
    "Home_Tracker.expense_tracker_version=0.2\n",
    "print('Home Tracker Class Attribute: ',Home_Tracker.expense_tracker_version)\n",
    "print('Shopping Tracker Class Attribute: ',Shopping_Tracker_Debit.expense_tracker_version)\n",
    "# After modifying the class attribute from one instance it doesn't change the value for all the instances, so the declaration have to quite careful.\n",
    "# To change the value, have to change it in all instances\n",
    "\n",
    "\n"
   ]
  },
  {
   "cell_type": "code",
   "execution_count": null,
   "metadata": {},
   "outputs": [],
   "source": [
    "#  Methods in Python (OOPS):\n",
    "    # Class Method: -\n",
    "    # Static Method: -\n",
    "    # Instnace Method: -\n",
    "\n",
    "#  Static Methods: - \n",
    "\n",
    "\n",
    "\n",
    "class Expense_Tracker:\n",
    "    expense_tracker_version=0.1\n",
    "    def __init__(self,tracker_category,opening_balance,budget) -> None:\n",
    "        self.tracker_category=tracker_category\n",
    "        self.opening_balance=opening_balance\n",
    "        self.budget=budget\n",
    "\n",
    "    #  Instance Method\n",
    "    #  Self has to be a parameter, always for instance method\n",
    "    def get_opening_balance(self):\n",
    "        return self.opopening_balance\n",
    "\n",
    "\n",
    "#  Creating an object, from class \n",
    "Home_Tracker=Expense_Tracker('home',3000, 5000)\n",
    "print(Home_Tracker.tracker_category)\n",
    "Shopping_Tracker_Debit =Expense_Tracker('shopping', 1000,10000)\n",
    "print(Shopping_Tracker_Debit.tracker_category)"
   ]
  },
  {
   "cell_type": "code",
   "execution_count": null,
   "metadata": {},
   "outputs": [],
   "source": [
    "# Code should have not redudancy and should be resuable \n",
    "#  Inheritance : - When a class uses the attributes and methods of a parnet class\n",
    "\n",
    "# Parent-> Child                Single Inheritance\n",
    "# Parent- > Child 1, Child 2    Multiple Inheritance  \n",
    "# Grand Parent -> parent- > Child  -> Multilevel Inheritance\n",
    "\n",
    "# Parent also know as Base class.\n",
    "\n"
   ]
  },
  {
   "cell_type": "code",
   "execution_count": null,
   "metadata": {},
   "outputs": [],
   "source": []
  },
  {
   "cell_type": "code",
   "execution_count": null,
   "metadata": {},
   "outputs": [],
   "source": []
  },
  {
   "cell_type": "code",
   "execution_count": null,
   "metadata": {},
   "outputs": [],
   "source": []
  }
 ],
 "metadata": {
  "language_info": {
   "name": "python"
  },
  "orig_nbformat": 4
 },
 "nbformat": 4,
 "nbformat_minor": 2
}
